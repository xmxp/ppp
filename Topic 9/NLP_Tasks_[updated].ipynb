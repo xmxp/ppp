{
  "nbformat": 4,
  "nbformat_minor": 0,
  "metadata": {
    "kernelspec": {
      "display_name": "Python 3",
      "language": "python",
      "name": "python3"
    },
    "language_info": {
      "codemirror_mode": {
        "name": "ipython",
        "version": 3
      },
      "file_extension": ".py",
      "mimetype": "text/x-python",
      "name": "python",
      "nbconvert_exporter": "python",
      "pygments_lexer": "ipython3",
      "version": "3.8.5"
    },
    "colab": {
      "name": "NLP_Tasks [updated].ipynb",
      "provenance": []
    }
  },
  "cells": [
    {
      "cell_type": "markdown",
      "metadata": {
        "id": "iEM0t63Zcg-x"
      },
      "source": [
        "# Lecture 9 - Natural Language Processing"
      ]
    },
    {
      "cell_type": "markdown",
      "metadata": {
        "id": "cF-0dUYNcg-z"
      },
      "source": [
        "## Load Data"
      ]
    },
    {
      "cell_type": "code",
      "metadata": {
        "id": "kkdgVO7Jcg-0"
      },
      "source": [
        "import requests\n",
        "from bs4 import BeautifulSoup\n",
        "import pandas as pd\n",
        "import numpy as np\n",
        "import matplotlib.pyplot as plt\n",
        "import seaborn as sns\n",
        "import os\n",
        "%matplotlib inline"
      ],
      "execution_count": 1,
      "outputs": []
    },
    {
      "cell_type": "code",
      "metadata": {
        "id": "3fokuf41cg-0"
      },
      "source": [
        "seed_urls = ['https://inshorts.com/en/read/technology',\n",
        "             'https://inshorts.com/en/read/sports',\n",
        "             'https://inshorts.com/en/read/world']\n",
        "\n",
        "def build_dataset(seed_urls):\n",
        "    news_data = []\n",
        "    for url in seed_urls:\n",
        "        news_category = url.split('/')[-1]\n",
        "        data = requests.get(url)\n",
        "        soup = BeautifulSoup(data.content, 'html.parser')\n",
        "        \n",
        "        news_articles = [{'news_headline': headline.find('span', \n",
        "                                    attrs={\"itemprop\": \"headline\"}).string,\n",
        "                          'news_article': article.find('div', \n",
        "                                    attrs={\"itemprop\": \"articleBody\"}).string,\n",
        "                          'news_category': news_category}\n",
        "                         \n",
        "                            for headline, article in \n",
        "                             zip(soup.find_all('div', \n",
        "                                    class_=[\"news-card-title news-right-box\"]),\n",
        "                                 soup.find_all('div', \n",
        "                                    class_=[\"news-card-content news-right-box\"]))\n",
        "                        ]\n",
        "        news_data.extend(news_articles)\n",
        "        \n",
        "    df =  pd.DataFrame(news_data)\n",
        "    df = df[['news_headline', 'news_article', 'news_category']]\n",
        "    return df"
      ],
      "execution_count": 2,
      "outputs": []
    },
    {
      "cell_type": "code",
      "metadata": {
        "colab": {
          "base_uri": "https://localhost:8080/",
          "height": 204
        },
        "id": "inZrDbAzcg-1",
        "outputId": "d1aeb4b3-a40a-491b-8635-8050f6a32d97"
      },
      "source": [
        "news_df = build_dataset(seed_urls)\n",
        "news_df.head()"
      ],
      "execution_count": 3,
      "outputs": [
        {
          "output_type": "execute_result",
          "data": {
            "text/html": [
              "<div>\n",
              "<style scoped>\n",
              "    .dataframe tbody tr th:only-of-type {\n",
              "        vertical-align: middle;\n",
              "    }\n",
              "\n",
              "    .dataframe tbody tr th {\n",
              "        vertical-align: top;\n",
              "    }\n",
              "\n",
              "    .dataframe thead th {\n",
              "        text-align: right;\n",
              "    }\n",
              "</style>\n",
              "<table border=\"1\" class=\"dataframe\">\n",
              "  <thead>\n",
              "    <tr style=\"text-align: right;\">\n",
              "      <th></th>\n",
              "      <th>news_headline</th>\n",
              "      <th>news_article</th>\n",
              "      <th>news_category</th>\n",
              "    </tr>\n",
              "  </thead>\n",
              "  <tbody>\n",
              "    <tr>\n",
              "      <th>0</th>\n",
              "      <td>Elon Musk with $300 billion net worth becomes ...</td>\n",
              "      <td>World's richest person and Tesla CEO Elon Musk...</td>\n",
              "      <td>technology</td>\n",
              "    </tr>\n",
              "    <tr>\n",
              "      <th>1</th>\n",
              "      <td>Reliance Jio declines AGR dues moratorium, bec...</td>\n",
              "      <td>Reliance Jio has reportedly said it won't opt ...</td>\n",
              "      <td>technology</td>\n",
              "    </tr>\n",
              "    <tr>\n",
              "      <th>2</th>\n",
              "      <td>Who is Indian-American Raja Chari who'll comma...</td>\n",
              "      <td>Indian-American astronaut Raja Chari will take...</td>\n",
              "      <td>technology</td>\n",
              "    </tr>\n",
              "    <tr>\n",
              "      <th>3</th>\n",
              "      <td>WhatsApp to no longer support Android phones w...</td>\n",
              "      <td>WhatsApp will no longer support Android phones...</td>\n",
              "      <td>technology</td>\n",
              "    </tr>\n",
              "    <tr>\n",
              "      <th>4</th>\n",
              "      <td>Mumbai Police shares meme on Facebook name cha...</td>\n",
              "      <td>After Facebook changed its company name to 'Me...</td>\n",
              "      <td>technology</td>\n",
              "    </tr>\n",
              "  </tbody>\n",
              "</table>\n",
              "</div>"
            ],
            "text/plain": [
              "                                       news_headline  ... news_category\n",
              "0  Elon Musk with $300 billion net worth becomes ...  ...    technology\n",
              "1  Reliance Jio declines AGR dues moratorium, bec...  ...    technology\n",
              "2  Who is Indian-American Raja Chari who'll comma...  ...    technology\n",
              "3  WhatsApp to no longer support Android phones w...  ...    technology\n",
              "4  Mumbai Police shares meme on Facebook name cha...  ...    technology\n",
              "\n",
              "[5 rows x 3 columns]"
            ]
          },
          "metadata": {},
          "execution_count": 3
        }
      ]
    },
    {
      "cell_type": "code",
      "metadata": {
        "colab": {
          "base_uri": "https://localhost:8080/"
        },
        "id": "M5QFzFI4cg-2",
        "outputId": "feb5f4b3-0e7e-418c-fb33-6a23c22b871c"
      },
      "source": [
        "news_df.news_category.value_counts()"
      ],
      "execution_count": 4,
      "outputs": [
        {
          "output_type": "execute_result",
          "data": {
            "text/plain": [
              "technology    25\n",
              "sports        25\n",
              "world         25\n",
              "Name: news_category, dtype: int64"
            ]
          },
          "metadata": {},
          "execution_count": 4
        }
      ]
    },
    {
      "cell_type": "markdown",
      "metadata": {
        "id": "Evb6q4Jncg-2"
      },
      "source": [
        "## Text Preprocessing"
      ]
    },
    {
      "cell_type": "markdown",
      "metadata": {
        "id": "0S-yFVZZcg-2"
      },
      "source": [
        "### Noise Removal"
      ]
    },
    {
      "cell_type": "code",
      "metadata": {
        "colab": {
          "base_uri": "https://localhost:8080/",
          "height": 35
        },
        "id": "mUSPri40cg-3",
        "outputId": "113bbd40-49ef-41fa-9138-51fbcb2ef7f3"
      },
      "source": [
        "noise_list = [\"is\", \"a\", \"this\", \"...\"]\n",
        "\n",
        "def _remove_noise(input_text):\n",
        "    words = input_text.split()\n",
        "    noise_free_words = [word for word in words if word not in noise_list]\n",
        "    noise_free_text = \" \".join(noise_free_words)\n",
        "    return noise_free_text\n",
        "\n",
        "_remove_noise(\"this is a sample text\")"
      ],
      "execution_count": 5,
      "outputs": [
        {
          "output_type": "execute_result",
          "data": {
            "application/vnd.google.colaboratory.intrinsic+json": {
              "type": "string"
            },
            "text/plain": [
              "'sample text'"
            ]
          },
          "metadata": {},
          "execution_count": 5
        }
      ]
    },
    {
      "cell_type": "code",
      "metadata": {
        "colab": {
          "base_uri": "https://localhost:8080/"
        },
        "id": "_ZJZITsccg-3",
        "outputId": "8f60f5a4-7391-441c-8208-d9f7aa89ef94"
      },
      "source": [
        "# Lower Case\n",
        "news_df['news_article'] = news_df['news_article']\\\n",
        "            .apply(lambda x: \" \".join(x.lower() for x in x.split()))\n",
        "news_df['news_article'].head()"
      ],
      "execution_count": 6,
      "outputs": [
        {
          "output_type": "execute_result",
          "data": {
            "text/plain": [
              "0    world's richest person and tesla ceo elon musk...\n",
              "1    reliance jio has reportedly said it won't opt ...\n",
              "2    indian-american astronaut raja chari will take...\n",
              "3    whatsapp will no longer support android phones...\n",
              "4    after facebook changed its company name to 'me...\n",
              "Name: news_article, dtype: object"
            ]
          },
          "metadata": {},
          "execution_count": 6
        }
      ]
    },
    {
      "cell_type": "code",
      "metadata": {
        "colab": {
          "base_uri": "https://localhost:8080/"
        },
        "id": "eURUvNSHcg-4",
        "outputId": "6468e9de-182d-436d-dce9-dfaa5c8e7edb"
      },
      "source": [
        "# Removing Punctuation\n",
        "news_df['news_article'] = news_df['news_article']\\\n",
        "            .str.replace('[^\\w\\s]','')\n",
        "news_df['news_article'].head()"
      ],
      "execution_count": 7,
      "outputs": [
        {
          "output_type": "execute_result",
          "data": {
            "text/plain": [
              "0    worlds richest person and tesla ceo elon musk ...\n",
              "1    reliance jio has reportedly said it wont opt f...\n",
              "2    indianamerican astronaut raja chari will take ...\n",
              "3    whatsapp will no longer support android phones...\n",
              "4    after facebook changed its company name to met...\n",
              "Name: news_article, dtype: object"
            ]
          },
          "metadata": {},
          "execution_count": 7
        }
      ]
    },
    {
      "cell_type": "code",
      "metadata": {
        "colab": {
          "base_uri": "https://localhost:8080/"
        },
        "id": "KfUvKDIMcg-4",
        "outputId": "72b4e9a4-02d3-44ab-a963-3528df045431"
      },
      "source": [
        "# Removing Stopwords\n",
        "import nltk\n",
        "nltk.download('stopwords')\n",
        "from nltk.corpus import stopwords\n",
        "stop = stopwords.words('english')\n",
        "news_df['news_article'] = news_df['news_article']\\\n",
        "            .apply(lambda x: \" \".join(x for x in x.split() if x not in stop))\n",
        "\n",
        "news_df['news_article'].head()\n",
        "news_df.to_csv('news_df.csv')"
      ],
      "execution_count": 8,
      "outputs": [
        {
          "output_type": "stream",
          "name": "stdout",
          "text": [
            "[nltk_data] Downloading package stopwords to /root/nltk_data...\n",
            "[nltk_data]   Package stopwords is already up-to-date!\n"
          ]
        }
      ]
    },
    {
      "cell_type": "code",
      "metadata": {
        "colab": {
          "base_uri": "https://localhost:8080/"
        },
        "id": "G216V0tfcg-4",
        "outputId": "370c215e-cb85-4bc9-f3f8-5a37a3e97005"
      },
      "source": [
        "# Word Tokenization\n",
        "from nltk.tokenize import word_tokenize\n",
        "nltk.download('punkt')\n",
        "\n",
        "print(news_df['news_article'].iloc[0])\n",
        "tokens = word_tokenize(news_df['news_article'].iloc[0])\n",
        "print(tokens)"
      ],
      "execution_count": 9,
      "outputs": [
        {
          "output_type": "stream",
          "name": "stdout",
          "text": [
            "[nltk_data] Downloading package punkt to /root/nltk_data...\n",
            "[nltk_data]   Package punkt is already up-to-date!\n",
            "worlds richest person tesla ceo elon musk become wealthier entire gdp pakistan around 280 billion musk saturday became first person cross net worth 300 billion teslas shares surged week earlier week tesla surpassed market capitalisation 1 trillion\n",
            "['worlds', 'richest', 'person', 'tesla', 'ceo', 'elon', 'musk', 'become', 'wealthier', 'entire', 'gdp', 'pakistan', 'around', '280', 'billion', 'musk', 'saturday', 'became', 'first', 'person', 'cross', 'net', 'worth', '300', 'billion', 'teslas', 'shares', 'surged', 'week', 'earlier', 'week', 'tesla', 'surpassed', 'market', 'capitalisation', '1', 'trillion']\n"
          ]
        }
      ]
    },
    {
      "cell_type": "code",
      "metadata": {
        "colab": {
          "base_uri": "https://localhost:8080/"
        },
        "id": "ep0rP87Wcg-5",
        "outputId": "8be61df3-890d-4b79-dbc8-7e66fca4252a"
      },
      "source": [
        "# Frequency Distribution\n",
        "from nltk.probability import FreqDist\n",
        "\n",
        "fdist = FreqDist(tokens)\n",
        "fdist.most_common(2)"
      ],
      "execution_count": 10,
      "outputs": [
        {
          "output_type": "execute_result",
          "data": {
            "text/plain": [
              "[('person', 2), ('tesla', 2)]"
            ]
          },
          "metadata": {},
          "execution_count": 10
        }
      ]
    },
    {
      "cell_type": "code",
      "metadata": {
        "colab": {
          "base_uri": "https://localhost:8080/",
          "height": 336
        },
        "id": "3TL46jhPcg-5",
        "outputId": "833c6fb9-9f82-40ef-976a-c970b98925a0"
      },
      "source": [
        "# Frequency Distribution Plot\n",
        "import matplotlib.pyplot as plt\n",
        "fdist.plot(30, cumulative=False)\n",
        "plt.show()"
      ],
      "execution_count": 11,
      "outputs": [
        {
          "output_type": "display_data",
          "data": {
            "image/png": "[encoded data removed]",
            "text/plain": [
              "<Figure size 432x288 with 1 Axes>"
            ]
          },
          "metadata": {
            "needs_background": "light"
          }
        }
      ]
    },
    {
      "cell_type": "markdown",
      "metadata": {
        "id": "SSJivf2hcg-6"
      },
      "source": [
        "### Lexicon Normalization"
      ]
    },
    {
      "cell_type": "code",
      "metadata": {
        "colab": {
          "base_uri": "https://localhost:8080/"
        },
        "id": "7U1KU6n6cg-7",
        "outputId": "581fb388-9b7a-40df-9ff7-fd942032d32e"
      },
      "source": [
        "# Stemming\n",
        "from nltk.stem import PorterStemmer\n",
        "\n",
        "st = PorterStemmer()\n",
        "news_df['news_article'][:5].apply(lambda x: \" \"\\\n",
        "                            .join([st.stem(word) for word in x.split()]))"
      ],
      "execution_count": 12,
      "outputs": [
        {
          "output_type": "execute_result",
          "data": {
            "text/plain": [
              "0    world richest person tesla ceo elon musk becom...\n",
              "1    relianc jio reportedli said wont opt govern fo...\n",
              "2    indianamerican astronaut raja chari take first...\n",
              "3    whatsapp longer support android phone run os 4...\n",
              "4    facebook chang compani name meta mumbai polic ...\n",
              "Name: news_article, dtype: object"
            ]
          },
          "metadata": {},
          "execution_count": 12
        }
      ]
    },
    {
      "cell_type": "code",
      "metadata": {
        "colab": {
          "base_uri": "https://localhost:8080/"
        },
        "id": "5qV6Wud3cg-7",
        "outputId": "8362696c-b3bf-43e2-fbaf-e58fc00ed244"
      },
      "source": [
        "# Lemmatization\n",
        "from nltk.stem.wordnet import WordNetLemmatizer\n",
        "nltk.download('wordnet')\n",
        "lem = WordNetLemmatizer()\n",
        "news_df['news_article'][:5].apply(lambda x: \" \"\\\n",
        "                            .join([lem.lemmatize(word, \"v\") \\\n",
        "                                for word in x.split()]))"
      ],
      "execution_count": 13,
      "outputs": [
        {
          "output_type": "stream",
          "name": "stdout",
          "text": [
            "[nltk_data] Downloading package wordnet to /root/nltk_data...\n",
            "[nltk_data]   Package wordnet is already up-to-date!\n"
          ]
        },
        {
          "output_type": "execute_result",
          "data": {
            "text/plain": [
              "0    worlds richest person tesla ceo elon musk beco...\n",
              "1    reliance jio reportedly say wont opt governmen...\n",
              "2    indianamerican astronaut raja chari take first...\n",
              "3    whatsapp longer support android phone run os 4...\n",
              "4    facebook change company name meta mumbai polic...\n",
              "Name: news_article, dtype: object"
            ]
          },
          "metadata": {},
          "execution_count": 13
        }
      ]
    },
    {
      "cell_type": "code",
      "metadata": {
        "colab": {
          "base_uri": "https://localhost:8080/"
        },
        "id": "0jK3ZqTfcg-7",
        "outputId": "506203da-b071-44e4-a6a5-45f1655ff0f3"
      },
      "source": [
        "news_df['news_article'][:5].apply(lambda x: \" \"\\\n",
        "                            .join([lem.lemmatize(word, \"n\") \\\n",
        "                                for word in x.split()]))"
      ],
      "execution_count": 14,
      "outputs": [
        {
          "output_type": "execute_result",
          "data": {
            "text/plain": [
              "0    world richest person tesla ceo elon musk becom...\n",
              "1    reliance jio reportedly said wont opt governme...\n",
              "2    indianamerican astronaut raja chari take first...\n",
              "3    whatsapp longer support android phone running ...\n",
              "4    facebook changed company name meta mumbai poli...\n",
              "Name: news_article, dtype: object"
            ]
          },
          "metadata": {},
          "execution_count": 14
        }
      ]
    },
    {
      "cell_type": "code",
      "metadata": {
        "colab": {
          "base_uri": "https://localhost:8080/",
          "height": 35
        },
        "id": "t8ayyFHIcg-8",
        "outputId": "0fce9c6b-eecc-431c-9dff-19d3b611687f"
      },
      "source": [
        "# Object Standardization\n",
        "lookup_dict = {'rt':'Retweet', 'dm':'direct message', \\\n",
        "               'awsm':'awesome', 'luv':'love'}\n",
        "\n",
        "def _lookup_words(input_text):\n",
        "    words = input_text.split()\n",
        "    new_words = []\n",
        "    for word in words:\n",
        "        if word.lower() in lookup_dict:\n",
        "            word = lookup_dict[word.lower()]\n",
        "\n",
        "        new_words.append(word)\n",
        "        new_text = \" \".join(new_words)\n",
        "\n",
        "    return new_text\n",
        "\n",
        "_lookup_words(\"RT this is a retweeted tweet by Shivam Bansal\")"
      ],
      "execution_count": 15,
      "outputs": [
        {
          "output_type": "execute_result",
          "data": {
            "application/vnd.google.colaboratory.intrinsic+json": {
              "type": "string"
            },
            "text/plain": [
              "'Retweet this is a retweeted tweet by Shivam Bansal'"
            ]
          },
          "metadata": {},
          "execution_count": 15
        }
      ]
    },
    {
      "cell_type": "markdown",
      "metadata": {
        "id": "Nc6bpcv2cg-8"
      },
      "source": [
        "## Feature Engineering"
      ]
    },
    {
      "cell_type": "code",
      "metadata": {
        "colab": {
          "base_uri": "https://localhost:8080/"
        },
        "id": "2GJSLuohcg-8",
        "outputId": "a52a1b88-306e-4044-cded-ed97a79af9d4"
      },
      "source": [
        "# Part of Speech (POS) Tagging\n",
        "from nltk import word_tokenize, pos_tag\n",
        "nltk.download('averaged_perceptron_tagger')\n",
        "text = \"I am learning Text Analytics at IVE(TY).\"\n",
        "tokens = word_tokenize(text)\n",
        "print(pos_tag(tokens))"
      ],
      "execution_count": 16,
      "outputs": [
        {
          "output_type": "stream",
          "name": "stdout",
          "text": [
            "[nltk_data] Downloading package averaged_perceptron_tagger to\n",
            "[nltk_data]     /root/nltk_data...\n",
            "[nltk_data]   Package averaged_perceptron_tagger is already up-to-\n",
            "[nltk_data]       date!\n",
            "[('I', 'PRP'), ('am', 'VBP'), ('learning', 'VBG'), ('Text', 'NNP'), ('Analytics', 'NNP'), ('at', 'IN'), ('IVE', 'NNP'), ('(', '('), ('TY', 'NNP'), (')', ')'), ('.', '.')]\n"
          ]
        }
      ]
    },
    {
      "cell_type": "code",
      "metadata": {
        "colab": {
          "base_uri": "https://localhost:8080/"
        },
        "id": "EcKvlYbecg-9",
        "outputId": "742378ef-fa8b-4339-eb2c-78198fb48976"
      },
      "source": [
        "# N-Grams as Features\n",
        "from textblob import TextBlob\n",
        "\n",
        "TextBlob(news_df['news_article'][1]).ngrams(3)"
      ],
      "execution_count": 17,
      "outputs": [
        {
          "output_type": "execute_result",
          "data": {
            "text/plain": [
              "[WordList(['reliance', 'jio', 'reportedly']),\n",
              " WordList(['jio', 'reportedly', 'said']),\n",
              " WordList(['reportedly', 'said', 'wont']),\n",
              " WordList(['said', 'wont', 'opt']),\n",
              " WordList(['wont', 'opt', 'governments']),\n",
              " WordList(['opt', 'governments', 'fouryear']),\n",
              " WordList(['governments', 'fouryear', 'moratorium']),\n",
              " WordList(['fouryear', 'moratorium', 'spectrum']),\n",
              " WordList(['moratorium', 'spectrum', 'adjusted']),\n",
              " WordList(['spectrum', 'adjusted', 'gross']),\n",
              " WordList(['adjusted', 'gross', 'revenue']),\n",
              " WordList(['gross', 'revenue', 'agr']),\n",
              " WordList(['revenue', 'agr', 'payments']),\n",
              " WordList(['agr', 'payments', 'becoming']),\n",
              " WordList(['payments', 'becoming', 'telecom']),\n",
              " WordList(['becoming', 'telecom', 'company']),\n",
              " WordList(['telecom', 'company', 'earlier']),\n",
              " WordList(['company', 'earlier', 'bharti']),\n",
              " WordList(['earlier', 'bharti', 'airtel']),\n",
              " WordList(['bharti', 'airtel', 'vodafone']),\n",
              " WordList(['airtel', 'vodafone', 'idea']),\n",
              " WordList(['vodafone', 'idea', 'vi']),\n",
              " WordList(['idea', 'vi', 'accepted']),\n",
              " WordList(['vi', 'accepted', 'forms']),\n",
              " WordList(['accepted', 'forms', 'moratorium']),\n",
              " WordList(['forms', 'moratorium', 'relief']),\n",
              " WordList(['moratorium', 'relief', 'package']),\n",
              " WordList(['relief', 'package', 'thursday']),\n",
              " WordList(['package', 'thursday', 'reliance']),\n",
              " WordList(['thursday', 'reliance', 'jio']),\n",
              " WordList(['reliance', 'jio', 'paid']),\n",
              " WordList(['jio', 'paid', '10792']),\n",
              " WordList(['paid', '10792', 'crore']),\n",
              " WordList(['10792', 'crore', 'spectrum']),\n",
              " WordList(['crore', 'spectrum', 'dues']),\n",
              " WordList(['spectrum', 'dues', 'government'])]"
            ]
          },
          "metadata": {},
          "execution_count": 17
        }
      ]
    },
    {
      "cell_type": "code",
      "metadata": {
        "colab": {
          "base_uri": "https://localhost:8080/",
          "height": 204
        },
        "id": "KR3j9tO6cg-9",
        "outputId": "f2f7cfa0-8cca-43a0-ee8a-9f332a86a83d"
      },
      "source": [
        "## Statistical Features\n",
        "# Term frequency (TF)\n",
        "tf1 = (news_df['news_article'][1:2]).apply(lambda x: \\\n",
        "                    pd.value_counts(x.split(\" \")))\\\n",
        "                    .sum(axis = 0).reset_index()\n",
        "tf1.columns = ['words', 'tf']\n",
        "tf1.head()"
      ],
      "execution_count": 18,
      "outputs": [
        {
          "output_type": "execute_result",
          "data": {
            "text/html": [
              "<div>\n",
              "<style scoped>\n",
              "    .dataframe tbody tr th:only-of-type {\n",
              "        vertical-align: middle;\n",
              "    }\n",
              "\n",
              "    .dataframe tbody tr th {\n",
              "        vertical-align: top;\n",
              "    }\n",
              "\n",
              "    .dataframe thead th {\n",
              "        text-align: right;\n",
              "    }\n",
              "</style>\n",
              "<table border=\"1\" class=\"dataframe\">\n",
              "  <thead>\n",
              "    <tr style=\"text-align: right;\">\n",
              "      <th></th>\n",
              "      <th>words</th>\n",
              "      <th>tf</th>\n",
              "    </tr>\n",
              "  </thead>\n",
              "  <tbody>\n",
              "    <tr>\n",
              "      <th>0</th>\n",
              "      <td>reliance</td>\n",
              "      <td>2</td>\n",
              "    </tr>\n",
              "    <tr>\n",
              "      <th>1</th>\n",
              "      <td>jio</td>\n",
              "      <td>2</td>\n",
              "    </tr>\n",
              "    <tr>\n",
              "      <th>2</th>\n",
              "      <td>spectrum</td>\n",
              "      <td>2</td>\n",
              "    </tr>\n",
              "    <tr>\n",
              "      <th>3</th>\n",
              "      <td>moratorium</td>\n",
              "      <td>2</td>\n",
              "    </tr>\n",
              "    <tr>\n",
              "      <th>4</th>\n",
              "      <td>governments</td>\n",
              "      <td>1</td>\n",
              "    </tr>\n",
              "  </tbody>\n",
              "</table>\n",
              "</div>"
            ],
            "text/plain": [
              "         words  tf\n",
              "0     reliance   2\n",
              "1          jio   2\n",
              "2     spectrum   2\n",
              "3   moratorium   2\n",
              "4  governments   1"
            ]
          },
          "metadata": {},
          "execution_count": 18
        }
      ]
    },
    {
      "cell_type": "code",
      "metadata": {
        "colab": {
          "base_uri": "https://localhost:8080/",
          "height": 204
        },
        "id": "QWIA1aFxcg-9",
        "outputId": "a0d3f327-87ba-4778-da11-6bfb174b7868"
      },
      "source": [
        "# Inverse Document Frequency (IDF)\n",
        "for i,word in enumerate(tf1['words']):\n",
        "    tf1.loc[i, 'idf'] = np.log(news_df.shape[0]/\\\n",
        "                        (len(news_df[news_df['news_article']\\\n",
        "                        .str.contains(word)])))\n",
        "\n",
        "tf1.head()"
      ],
      "execution_count": 19,
      "outputs": [
        {
          "output_type": "execute_result",
          "data": {
            "text/html": [
              "<div>\n",
              "<style scoped>\n",
              "    .dataframe tbody tr th:only-of-type {\n",
              "        vertical-align: middle;\n",
              "    }\n",
              "\n",
              "    .dataframe tbody tr th {\n",
              "        vertical-align: top;\n",
              "    }\n",
              "\n",
              "    .dataframe thead th {\n",
              "        text-align: right;\n",
              "    }\n",
              "</style>\n",
              "<table border=\"1\" class=\"dataframe\">\n",
              "  <thead>\n",
              "    <tr style=\"text-align: right;\">\n",
              "      <th></th>\n",
              "      <th>words</th>\n",
              "      <th>tf</th>\n",
              "      <th>idf</th>\n",
              "    </tr>\n",
              "  </thead>\n",
              "  <tbody>\n",
              "    <tr>\n",
              "      <th>0</th>\n",
              "      <td>reliance</td>\n",
              "      <td>2</td>\n",
              "      <td>4.317488</td>\n",
              "    </tr>\n",
              "    <tr>\n",
              "      <th>1</th>\n",
              "      <td>jio</td>\n",
              "      <td>2</td>\n",
              "      <td>4.317488</td>\n",
              "    </tr>\n",
              "    <tr>\n",
              "      <th>2</th>\n",
              "      <td>spectrum</td>\n",
              "      <td>2</td>\n",
              "      <td>4.317488</td>\n",
              "    </tr>\n",
              "    <tr>\n",
              "      <th>3</th>\n",
              "      <td>moratorium</td>\n",
              "      <td>2</td>\n",
              "      <td>4.317488</td>\n",
              "    </tr>\n",
              "    <tr>\n",
              "      <th>4</th>\n",
              "      <td>governments</td>\n",
              "      <td>1</td>\n",
              "      <td>4.317488</td>\n",
              "    </tr>\n",
              "  </tbody>\n",
              "</table>\n",
              "</div>"
            ],
            "text/plain": [
              "         words  tf       idf\n",
              "0     reliance   2  4.317488\n",
              "1          jio   2  4.317488\n",
              "2     spectrum   2  4.317488\n",
              "3   moratorium   2  4.317488\n",
              "4  governments   1  4.317488"
            ]
          },
          "metadata": {},
          "execution_count": 19
        }
      ]
    },
    {
      "cell_type": "code",
      "metadata": {
        "colab": {
          "base_uri": "https://localhost:8080/",
          "height": 204
        },
        "id": "GS4eLzcpcg-9",
        "outputId": "b8b7a9fa-db0e-4977-f8d2-99e6befc9a70"
      },
      "source": [
        "# TF-IDF\n",
        "tf1['tfidf'] = tf1['tf'] * tf1['idf']\n",
        "tf1.head()"
      ],
      "execution_count": 20,
      "outputs": [
        {
          "output_type": "execute_result",
          "data": {
            "text/html": [
              "<div>\n",
              "<style scoped>\n",
              "    .dataframe tbody tr th:only-of-type {\n",
              "        vertical-align: middle;\n",
              "    }\n",
              "\n",
              "    .dataframe tbody tr th {\n",
              "        vertical-align: top;\n",
              "    }\n",
              "\n",
              "    .dataframe thead th {\n",
              "        text-align: right;\n",
              "    }\n",
              "</style>\n",
              "<table border=\"1\" class=\"dataframe\">\n",
              "  <thead>\n",
              "    <tr style=\"text-align: right;\">\n",
              "      <th></th>\n",
              "      <th>words</th>\n",
              "      <th>tf</th>\n",
              "      <th>idf</th>\n",
              "      <th>tfidf</th>\n",
              "    </tr>\n",
              "  </thead>\n",
              "  <tbody>\n",
              "    <tr>\n",
              "      <th>0</th>\n",
              "      <td>reliance</td>\n",
              "      <td>2</td>\n",
              "      <td>4.317488</td>\n",
              "      <td>8.634976</td>\n",
              "    </tr>\n",
              "    <tr>\n",
              "      <th>1</th>\n",
              "      <td>jio</td>\n",
              "      <td>2</td>\n",
              "      <td>4.317488</td>\n",
              "      <td>8.634976</td>\n",
              "    </tr>\n",
              "    <tr>\n",
              "      <th>2</th>\n",
              "      <td>spectrum</td>\n",
              "      <td>2</td>\n",
              "      <td>4.317488</td>\n",
              "      <td>8.634976</td>\n",
              "    </tr>\n",
              "    <tr>\n",
              "      <th>3</th>\n",
              "      <td>moratorium</td>\n",
              "      <td>2</td>\n",
              "      <td>4.317488</td>\n",
              "      <td>8.634976</td>\n",
              "    </tr>\n",
              "    <tr>\n",
              "      <th>4</th>\n",
              "      <td>governments</td>\n",
              "      <td>1</td>\n",
              "      <td>4.317488</td>\n",
              "      <td>4.317488</td>\n",
              "    </tr>\n",
              "  </tbody>\n",
              "</table>\n",
              "</div>"
            ],
            "text/plain": [
              "         words  tf       idf     tfidf\n",
              "0     reliance   2  4.317488  8.634976\n",
              "1          jio   2  4.317488  8.634976\n",
              "2     spectrum   2  4.317488  8.634976\n",
              "3   moratorium   2  4.317488  8.634976\n",
              "4  governments   1  4.317488  4.317488"
            ]
          },
          "metadata": {},
          "execution_count": 20
        }
      ]
    },
    {
      "cell_type": "code",
      "metadata": {
        "colab": {
          "base_uri": "https://localhost:8080/"
        },
        "id": "5BjFJYBCcg--",
        "outputId": "4660fe1c-b36a-424c-856f-89b7cc3b3e32"
      },
      "source": [
        "from sklearn.feature_extraction.text import TfidfVectorizer\n",
        "\n",
        "tfidf = TfidfVectorizer(max_features=1000, lowercase=True, analyzer='word',\n",
        "            stop_words= 'english', ngram_range=(1,1))\n",
        "\n",
        "news_vect = tfidf.fit_transform(news_df['news_article'][1:2])\n",
        "print(news_vect)"
      ],
      "execution_count": 21,
      "outputs": [
        {
          "output_type": "stream",
          "name": "stdout",
          "text": [
            "  (0, 12)\t0.14907119849998599\n",
            "  (0, 8)\t0.14907119849998599\n",
            "  (0, 7)\t0.14907119849998599\n",
            "  (0, 0)\t0.14907119849998599\n",
            "  (0, 20)\t0.14907119849998599\n",
            "  (0, 29)\t0.14907119849998599\n",
            "  (0, 19)\t0.14907119849998599\n",
            "  (0, 23)\t0.14907119849998599\n",
            "  (0, 10)\t0.14907119849998599\n",
            "  (0, 1)\t0.14907119849998599\n",
            "  (0, 30)\t0.14907119849998599\n",
            "  (0, 15)\t0.14907119849998599\n",
            "  (0, 31)\t0.14907119849998599\n",
            "  (0, 4)\t0.14907119849998599\n",
            "  (0, 5)\t0.14907119849998599\n",
            "  (0, 9)\t0.14907119849998599\n",
            "  (0, 6)\t0.14907119849998599\n",
            "  (0, 28)\t0.14907119849998599\n",
            "  (0, 21)\t0.14907119849998599\n",
            "  (0, 3)\t0.14907119849998599\n",
            "  (0, 25)\t0.14907119849998599\n",
            "  (0, 14)\t0.14907119849998599\n",
            "  (0, 2)\t0.14907119849998599\n",
            "  (0, 27)\t0.29814239699997197\n",
            "  (0, 17)\t0.29814239699997197\n",
            "  (0, 11)\t0.14907119849998599\n",
            "  (0, 13)\t0.14907119849998599\n",
            "  (0, 18)\t0.14907119849998599\n",
            "  (0, 32)\t0.14907119849998599\n",
            "  (0, 26)\t0.14907119849998599\n",
            "  (0, 24)\t0.14907119849998599\n",
            "  (0, 16)\t0.29814239699997197\n",
            "  (0, 22)\t0.29814239699997197\n"
          ]
        }
      ]
    },
    {
      "cell_type": "markdown",
      "metadata": {
        "id": "3LPSuKi_cg--"
      },
      "source": [
        "## Important Text Analytics Tasks"
      ]
    },
    {
      "cell_type": "markdown",
      "metadata": {
        "id": "vCLnZh42cg--"
      },
      "source": [
        "### 1. Sentiment Analysis"
      ]
    },
    {
      "cell_type": "code",
      "metadata": {
        "colab": {
          "base_uri": "https://localhost:8080/"
        },
        "id": "2hgHkaV7cg--",
        "outputId": "7cbafbde-2212-4abb-fb21-c76dd96d86aa"
      },
      "source": [
        "# Sentiment Analysis Using TextBlob\n",
        "from textblob import TextBlob\n",
        "\n",
        "news_df['news_article'][:5].apply(lambda x: TextBlob(x).sentiment)"
      ],
      "execution_count": 22,
      "outputs": [
        {
          "output_type": "execute_result",
          "data": {
            "text/plain": [
              "0    (0.09166666666666667, 0.25972222222222224)\n",
              "1                                  (0.15, 0.45)\n",
              "2    (0.02777777777777778, 0.16666666666666666)\n",
              "3    (0.08333333333333333, 0.41666666666666663)\n",
              "4                                    (0.5, 0.5)\n",
              "Name: news_article, dtype: object"
            ]
          },
          "metadata": {},
          "execution_count": 22
        }
      ]
    },
    {
      "cell_type": "code",
      "metadata": {
        "colab": {
          "base_uri": "https://localhost:8080/"
        },
        "id": "G6BuzJSNcg--",
        "outputId": "25a70fae-fdc7-4d26-c2fa-4d467c6800a1"
      },
      "source": [
        "# Sentiment Analysis Using NLTK\n",
        "import nltk.classify.util\n",
        "from nltk.classify import NaiveBayesClassifier\n",
        "from nltk.corpus import names\n",
        " \n",
        "def word_feats(word):\n",
        "    return dict([(char, True) for char in word])\n",
        " \n",
        "positive_vocab = [ 'awesome', 'outstanding', 'fantastic', 'terrific', 'good', 'nice', 'great', ':)' ]\n",
        "negative_vocab = [ 'bad', 'terrible','useless', 'hate', ':(' ]\n",
        "neutral_vocab = [ 'movie','the','sound','was','is','actors','did','know','words','not' ]\n",
        " \n",
        "positive_features = [(word_feats(pos), 'pos') for pos in positive_vocab]\n",
        "negative_features = [(word_feats(neg), 'neg') for neg in negative_vocab]\n",
        "neutral_features = [(word_feats(neu), 'neu') for neu in neutral_vocab]\n",
        " \n",
        "train_set = negative_features + positive_features + neutral_features\n",
        " \n",
        "classifier = NaiveBayesClassifier.train(train_set) \n",
        " \n",
        "# Predict\n",
        "neg = 0\n",
        "pos = 0\n",
        "sentence = \"Awesome movie, I liked it\"\n",
        "sentence = sentence.lower()\n",
        "words = sentence.split(' ')\n",
        "\n",
        "for word in words:\n",
        "    classResult = classifier.classify( word_feats(word))\n",
        "    if classResult == 'neg':\n",
        "        neg = neg + 1\n",
        "    if classResult == 'pos':\n",
        "        pos = pos + 1\n",
        " \n",
        "print('Positive: ' + str(float(pos)/len(words)))\n",
        "print('Negative: ' + str(float(neg)/len(words)))"
      ],
      "execution_count": 23,
      "outputs": [
        {
          "output_type": "stream",
          "name": "stdout",
          "text": [
            "Positive: 0.6\n",
            "Negative: 0.2\n"
          ]
        }
      ]
    },
    {
      "cell_type": "markdown",
      "metadata": {
        "id": "uLZ0nccFcg-_"
      },
      "source": [
        "### 2. Text Classification"
      ]
    },
    {
      "cell_type": "code",
      "metadata": {
        "colab": {
          "base_uri": "https://localhost:8080/"
        },
        "id": "5acNW7bhcg-_",
        "outputId": "1361390d-09cf-43e9-b209-ab22068c56fd"
      },
      "source": [
        "from textblob.classifiers import NaiveBayesClassifier as NBC\n",
        "from textblob import TextBlob\n",
        "\n",
        "training_corpus = [\n",
        "    ('I am exhausted of this work.', 'Class_B'),\n",
        "    (\"I can't cooperate with this\", 'Class_B'),\n",
        "    ('He is my badest enemy!', 'Class_B'),\n",
        "    ('My management is poor.', 'Class_B'),\n",
        "    ('I love this burger.', 'Class_A'),\n",
        "    ('This is an brilliant place!', 'Class_A'),\n",
        "    ('I feel very good about these dates.', 'Class_A'),\n",
        "    ('This is my best work.', 'Class_A'),\n",
        "    (\"What an awesome view\", 'Class_A'),\n",
        "    ('I do not like this dish', 'Class_B')]\n",
        "\n",
        "test_corpus = [\n",
        "    (\"I am not feeling well today.\", 'Class_B'),\n",
        "    (\"I feel brilliant!\", 'Class_A'),\n",
        "    ('Gary is a friend of mine.', 'Class_A'),\n",
        "    (\"I can't believe I'm doing this.\", 'Class_B'),\n",
        "    ('The date was good.', 'Class_A'), ('I do not enjoy my job', 'Class_B')]\n",
        "\n",
        "model = NBC(training_corpus)\n",
        "print(model.classify(\"Their codes are amazing.\"))"
      ],
      "execution_count": 24,
      "outputs": [
        {
          "output_type": "stream",
          "name": "stdout",
          "text": [
            "Class_A\n"
          ]
        }
      ]
    },
    {
      "cell_type": "code",
      "metadata": {
        "colab": {
          "base_uri": "https://localhost:8080/"
        },
        "id": "7Tw3bNrzcg-_",
        "outputId": "e997a1bd-623b-41c0-b796-177faf115168"
      },
      "source": [
        "print(model.classify(\"I don't like their computer.\"))"
      ],
      "execution_count": 25,
      "outputs": [
        {
          "output_type": "stream",
          "name": "stdout",
          "text": [
            "Class_B\n"
          ]
        }
      ]
    },
    {
      "cell_type": "code",
      "metadata": {
        "colab": {
          "base_uri": "https://localhost:8080/"
        },
        "id": "4r1HgdXScg-_",
        "outputId": "254af27a-029a-44b9-a912-a5ed0b2a3c22"
      },
      "source": [
        "print(model.accuracy(test_corpus))"
      ],
      "execution_count": 26,
      "outputs": [
        {
          "output_type": "stream",
          "name": "stdout",
          "text": [
            "0.8333333333333334\n"
          ]
        }
      ]
    },
    {
      "cell_type": "code",
      "metadata": {
        "colab": {
          "base_uri": "https://localhost:8080/"
        },
        "id": "bYhDNdyKcg_A",
        "outputId": "e436227b-09f3-462f-e13a-5423c4b26d0a"
      },
      "source": [
        "from sklearn.feature_extraction.text import TfidfVectorizer\n",
        "from sklearn.metrics import classification_report\n",
        "from sklearn import svm\n",
        "\n",
        "# Preparing data for SVM model (using the same training_corpus, test_corpus\n",
        "#   from naive bayes example)\n",
        "train_data = []\n",
        "train_labels = []\n",
        "for row in training_corpus:\n",
        "    train_data.append(row[0])\n",
        "    train_labels.append(row[1])\n",
        "\n",
        "test_data = []\n",
        "test_labels = []\n",
        "for row in test_corpus:\n",
        "    test_data.append(row[0])\n",
        "    test_labels.append(row[1])\n",
        "\n",
        "# Create feature vectors\n",
        "vectorizer = TfidfVectorizer(min_df=4, max_df=0.9)\n",
        "\n",
        "# Train the feature vectors\n",
        "train_vectors = vectorizer.fit_transform(train_data)\n",
        "\n",
        "# Apply model on test data\n",
        "test_vectors = vectorizer.transform(test_data)\n",
        "\n",
        "# Perform classification with SVM, kernel=linear\n",
        "model = svm.SVC(kernel='linear')\n",
        "model.fit(train_vectors, train_labels)\n",
        "prediction = model.predict(test_vectors)\n",
        "print(prediction)\n",
        "# print(classification_report(test_labels, prediction))"
      ],
      "execution_count": 27,
      "outputs": [
        {
          "output_type": "stream",
          "name": "stdout",
          "text": [
            "['Class_A' 'Class_A' 'Class_B' 'Class_B' 'Class_A' 'Class_A']\n"
          ]
        }
      ]
    },
    {
      "cell_type": "markdown",
      "metadata": {
        "id": "tJeTn-2Gcg_A"
      },
      "source": [
        "### 3. Chatbot"
      ]
    },
    {
      "cell_type": "code",
      "metadata": {
        "id": "sm27RyTEcg_A"
      },
      "source": [
        ""
      ],
      "execution_count": 27,
      "outputs": []
    }
  ]
}